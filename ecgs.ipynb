{
 "cells": [
  {
   "cell_type": "markdown",
   "metadata": {},
   "source": [
    "# Geosemantics Framework"
   ]
  },
  {
   "cell_type": "markdown",
   "metadata": {},
   "source": [
    "We face many challenges in the process of extracting meaningful information from data [add examples of challenges related to integration of models and data]. Frequently, these obstacle  compel scientists to perform the integration of models with data manually. Manual integration becomes exponentially difficult when a user aims to integrate long-tail data (data collected by individual researchers or small research groups) and long-tail models (models developed by individuals or small modeling communities). We focus on these long-tail resources because despite their often-narrow scope, they have significant impacts in scientific studies and present an opportunity for addressing critical gaps through automated integration. The goal of the Goesemantics Framework is to provide a framework rooted in semantic techniques and approaches to support “long-tail” models and data integration.\n"
   ]
  },
  {
   "cell_type": "markdown",
   "metadata": {},
   "source": [
    "## Semantic Annotation of Data using JSON Linked Data\n",
    " \n",
    "The Earthcube Geosemantics Framework (http://ecgs.ncsa.illinois.edu/) developed a prototype of a decentralized framework that combines the Linked Data and RESTful web services to annotate, connect, integrate, and reason about integration of geoscience resources. The framework allows the semantic enrichment of web resources and semantic mediation among heterogeneous geoscience resources, such as models and data. \n",
    "\n",
    "This notebook provides examples on how the Semantic Annotation Service can be used to manage linked controlled vocabularies using JSON Linked Data (JSON-LD), including how to query the built-in RDF graphs for existing linked standard vocabularies based on the Community Surface Dynamics Modeling System (CSDMS), Observations Data Model (ODM2) and Unidata udunits2 vocabularies, how to query build-in crosswalks between CSDMS and ODM2 vocabularies using SKOS, and how to add new linked vocabularies to the service. JSON-LD based definitions provided by these endpoints will be used to annotate sample data available within the IML Critical Zone Observatory data repository using the Clowder Web Service API (https://data.imlczo.org/). By supporting JSON-LD, the Semantic Annotation Service and the Clowder framework provide examples on how portable and semantically defined metadata can be used to better annotate data across repositories and services."
   ]
  },
  {
   "cell_type": "markdown",
   "metadata": {},
   "source": [
    "## Linked Data\n",
    "\n",
    "The Linked Data paradigm emerged in the context of Semantic Web technologies for publishing and sharing data over the Web. It connects related individual Web resources in a Graph database, where resources represent the graph nodes, and an edge connects a pair of nodes. Publishing and linking scientific resources using Semantic Web technologies require that the user community follows the three principles of the linked Data: \n",
    "1.  Each resource needs to be represented using a unique Uniform Resource Identifier (URI), which consists of: (i) A Uniform Resource Locator (URL) to define the server path over the Web, and (ii) A Uniform Resource Name (URN) to describe the exact name of the resource. \n",
    "2. The relationships between resources are described using the triple format, where a subject S has a predicate P with an object O. A predicate is either an undirected relationship (bi-directional), where it connects two entities in both ways or a directed relationship (uni-directional), where the presence of a relationship between two entities in one direction does not imply the presence of a reverse relationship. The triple format is the structure unit for the Linked Data system. \n",
    "3. The HyperText Transfer Protocol (HTTP) is used as a universal access mechanism for resources on the Web. \n",
    "\n",
    "For more information about linked data, please visit https://www.w3.org/standards/semanticweb/data.\n"
   ]
  },
  {
   "cell_type": "markdown",
   "metadata": {},
   "source": [
    "## Basic Requirements"
   ]
  },
  {
   "cell_type": "code",
   "execution_count": null,
   "metadata": {},
   "outputs": [],
   "source": [
    "import requests\n",
    "import json\n",
    "import ipywidgets as widgets\n",
    "\n",
    "from IPython.display import display\n",
    "\n",
    "host = 'http://hcgs.ncsa.illinois.edu'"
   ]
  },
  {
   "cell_type": "code",
   "execution_count": null,
   "metadata": {},
   "outputs": [],
   "source": [
    "r = requests.get(host + \"/gsis/CSNqueryName?graph=csdms&name=air__dynamic_shear_viscosity\")\n",
    "r.json()"
   ]
  },
  {
   "cell_type": "markdown",
   "metadata": {},
   "source": [
    "## Temporal Annotation Services\n",
    "Time values are represented in UTC (Coordinated Universal Time) format. Times are expressed in local time, together with a time zone offset in hours and minutes. For more information, please visit https://www.w3.org/TR/NOTE-datetime for more information."
   ]
  },
  {
   "cell_type": "markdown",
   "metadata": {},
   "source": [
    "### Time Instant Annotation\n",
    "Query parameters: \n",
    "* **time** (string): time value in UTC format"
   ]
  },
  {
   "cell_type": "code",
   "execution_count": null,
   "metadata": {},
   "outputs": [],
   "source": [
    "# Get a temporal annotation for a time instant in a JSON-LD format.\n",
    "time = '2014-01-01T08:01:01-09:00'\n",
    "r = requests.get(f\"{host}/gsis/sas/temporal?time={time}\")\n",
    "print(r.json())"
   ]
  },
  {
   "cell_type": "markdown",
   "metadata": {},
   "source": [
    "### Time Interval Annotation\n",
    "Query parameters: \n",
    "* **beginning** (string): time value in UTC format.\n",
    "* **end** (string): time value in UTC format."
   ]
  },
  {
   "cell_type": "code",
   "execution_count": null,
   "metadata": {},
   "outputs": [],
   "source": [
    "# Get a temporal annotation for a time interval in a JSON-LD format.\n",
    "beginning = '2014-01-01T08:01:01-10:00'\n",
    "end = '2014-12-31T08:01:01-10:00'\n",
    "r = requests.get(f\"{host}/gsis/sas/temporal?beginning={beginning}&end={end}\")\n",
    "print(r.json())"
   ]
  },
  {
   "cell_type": "markdown",
   "metadata": {},
   "source": [
    "### TIme Series Annotation\n",
    "Query parameters:\n",
    "* **beginning** (string): time value in UTC format.\n",
    "* **end** (string): time value in UTC format.\n",
    "* **interval** (float): time step."
   ]
  },
  {
   "cell_type": "code",
   "execution_count": null,
   "metadata": {},
   "outputs": [],
   "source": [
    "# Get a temporal annotation for a time series in a JSON-LD format.\n",
    "beginning = '2014-01-01T08:01:01-10:00'\n",
    "end = '2014-03-01T08:01:01-10:00'\n",
    "interval = '4'\n",
    "r = requests.get(f\"{host}/gsis/sas/temporal?beginning={beginning}&end={end}&interval={interval}\")\n",
    "print(r.json())"
   ]
  },
  {
   "cell_type": "markdown",
   "metadata": {},
   "source": [
    "## Semantic Annotation Service"
   ]
  },
  {
   "cell_type": "markdown",
   "metadata": {},
   "source": [
    "### Lists the names of all graphs in the Knowledge base\n",
    "\n",
    "Returns a list of all the graphs stored in the knowledge base."
   ]
  },
  {
   "cell_type": "code",
   "execution_count": null,
   "metadata": {},
   "outputs": [],
   "source": [
    "r = requests.get(host + \"/gsis/listGraphNames\")\n",
    "r.json()"
   ]
  },
  {
   "cell_type": "code",
   "execution_count": null,
   "metadata": {},
   "outputs": [],
   "source": [
    "r = requests.get(host + \"/gsis/read?graph=udunits2-prefix\")\n",
    "r.json()"
   ]
  },
  {
   "cell_type": "code",
   "execution_count": null,
   "metadata": {},
   "outputs": [],
   "source": [
    "r = requests.get(host + \"/gsis/sas/vars/list?term=wind+speed\")\n",
    "r.json()"
   ]
  },
  {
   "cell_type": "code",
   "execution_count": null,
   "metadata": {},
   "outputs": [],
   "source": [
    "r = requests.get(host + \"/gsis/CSNqueryName?graph=csdms&name=air__dynamic_shear_viscosity\")\n",
    "r.json()"
   ]
  },
  {
   "cell_type": "code",
   "execution_count": null,
   "metadata": {},
   "outputs": [],
   "source": [
    "r = requests.get(host + \"/gsis/CSNqueryName?graph=odm2-vars&name=windSpeed\")\n",
    "r.json()"
   ]
  },
  {
   "cell_type": "markdown",
   "metadata": {},
   "source": [
    "## Variable Annotation Services"
   ]
  },
  {
   "cell_type": "markdown",
   "metadata": {},
   "source": [
    "### Lists the names of all graphs in the Knowledge base"
   ]
  },
  {
   "cell_type": "code",
   "execution_count": null,
   "metadata": {},
   "outputs": [],
   "source": [
    "# Get a lists of the names of all graphs in the Knowledge base\n",
    "r = requests.get(f\"{host}/gsis/listGraphNames\")\n",
    "print(r.json())"
   ]
  },
  {
   "cell_type": "markdown",
   "metadata": {},
   "source": [
    "### List the content of a Graph (for example, CSDMS Standard Names)"
   ]
  },
  {
   "cell_type": "code",
   "execution_count": null,
   "metadata": {},
   "outputs": [],
   "source": [
    "# Get the content stored in a specific graph in a JSON-LD format.\n",
    "graph = 'csdms'\n",
    "r = requests.get(f\"{host}/gsis/read?graph={graph}\")\n",
    "print(r.json())"
   ]
  },
  {
   "cell_type": "markdown",
   "metadata": {},
   "source": [
    "### List of CSDMS Standard Names and ODM2 Variable Names"
   ]
  },
  {
   "cell_type": "code",
   "execution_count": null,
   "metadata": {},
   "outputs": [],
   "source": [
    "# Get the CSDMS Standard Names as a flat list.\n",
    "r = requests.get(f\"{host}/gsis/sas/sn/csn\")\n",
    "print(r.json())"
   ]
  },
  {
   "cell_type": "code",
   "execution_count": null,
   "metadata": {},
   "outputs": [],
   "source": [
    "# Get the ODM2 Variable Names as a flat list.\n",
    "r = requests.get(f\"{host}/gsis/sas/sn/odm2\")\n",
    "print(r.json())"
   ]
  },
  {
   "cell_type": "markdown",
   "metadata": {},
   "source": [
    "### Search Across Registered Graphs"
   ]
  },
  {
   "cell_type": "code",
   "execution_count": null,
   "metadata": {},
   "outputs": [],
   "source": [
    "# Get all properties of a given CSDMS Standard Name from a specific graph in a JSON-LD format.\n",
    "graph = 'csdms'\n",
    "name = 'air__dynamic_shear_viscosity'\n",
    "r = requests.get(f\"{host}/gsis/CSNqueryName?graph={graph}&name={name}\")\n",
    "print(r.json())"
   ]
  },
  {
   "cell_type": "markdown",
   "metadata": {},
   "source": [
    "### Units"
   ]
  },
  {
   "cell_type": "code",
   "execution_count": null,
   "metadata": {},
   "outputs": [],
   "source": [
    "# Get the list of udunits2 units in JSON format.\n",
    "r = requests.get(f\"{host}/gsis/sas/unit/udunits2\")\n",
    "print(r.json())"
   ]
  },
  {
   "cell_type": "code",
   "execution_count": null,
   "metadata": {},
   "outputs": [],
   "source": [
    "# Get the list of Google units in JSON format.\n",
    "r = requests.get(host + \"/gsis/sas/unit/google\")\n",
    "print(r.json())"
   ]
  },
  {
   "cell_type": "markdown",
   "metadata": {},
   "source": [
    "## Clowder"
   ]
  },
  {
   "cell_type": "code",
   "execution_count": null,
   "metadata": {},
   "outputs": [],
   "source": [
    "clowder = 'https://data.imlczo.org/clowder'\n",
    "key = ''\n",
    "headers = {'Content-type': 'application/json', 'X-API-Key': key}"
   ]
  },
  {
   "cell_type": "markdown",
   "metadata": {},
   "source": [
    "## Search by metadata"
   ]
  },
  {
   "cell_type": "markdown",
   "metadata": {},
   "source": [
    "Search by keyword"
   ]
  },
  {
   "cell_type": "code",
   "execution_count": null,
   "metadata": {},
   "outputs": [],
   "source": [
    "query = 'test'\n",
    "url = \"{}/api/search?query={}\".format(clowder, query)\n",
    "r = requests.get(url, headers=headers)\n",
    "r.raise_for_status()\n",
    "r.json()"
   ]
  },
  {
   "cell_type": "markdown",
   "metadata": {},
   "source": [
    "Search by `ODM2 Variable Name = precipitation`"
   ]
  },
  {
   "cell_type": "code",
   "execution_count": null,
   "metadata": {},
   "outputs": [],
   "source": [
    "query = '\"ODM2 Variable Name\":\"precipitation\"'\n",
    "url = \"{}/api/search?query={}\".format(clowder, query)\n",
    "r = requests.get(url, headers=headers)\n",
    "json = r.json()\n",
    "datasetId = json.get('results')[0].get('id')\n",
    "print('Dataset id: ' + datasetId)"
   ]
  },
  {
   "cell_type": "code",
   "execution_count": null,
   "metadata": {},
   "outputs": [],
   "source": [
    "query = '\"ODM2 Variable Name\":\"precipitation\"'\n",
    "url = \"{}/api/search?query={}\".format(clowder, query)\n",
    "r = requests.get(url, headers=headers)\n",
    "json = r.json()\n",
    "datasetId = json.get('results')[0].get('id')\n",
    "print('Dataset id: ' + datasetId)"
   ]
  },
  {
   "cell_type": "code",
   "execution_count": null,
   "metadata": {},
   "outputs": [],
   "source": [
    "# List files in dataset\n",
    "url = \"{}/api/datasets/{}/files\".format(clowder, datasetId)\n",
    "r = requests.get(url)\n",
    "json = r.json()\n",
    "# Download the first file\n",
    "fileId = json[0].get('id')\n",
    "fileName = json[0].get('filename')\n",
    "url = \"{}/api/files/{}/blob\".format(clowder, fileId)\n",
    "r = requests.get(url)\n",
    "open(fileName, 'wb').write(r.content)"
   ]
  },
  {
   "cell_type": "markdown",
   "metadata": {},
   "source": [
    "### Create new dataset"
   ]
  },
  {
   "cell_type": "code",
   "execution_count": null,
   "metadata": {},
   "outputs": [],
   "source": [
    "def create_dataset(name, description, access, space, collection):\n",
    "    '''\n",
    "     params: name, description, access: PUBLIC vs PRIVATE, \n",
    "         space: a list of string can be empty,\n",
    "         collection: a list of string, can be empty\n",
    "    '''\n",
    "    url = \"{}/api/datasets/createempty\".format(clowder)\n",
    "    payload = json.dumps({'name':name, \n",
    "                          'description':description,\n",
    "                          'access':access,\n",
    "                          'space':space,\n",
    "                          'collection':collection}) \n",
    "\n",
    "    r = requests.post(url,\n",
    "                     data=payload,\n",
    "                     headers=headers)\n",
    "    print(r.status_code)\n",
    "    print(r.text)\n",
    "    return r.json()"
   ]
  },
  {
   "cell_type": "code",
   "execution_count": null,
   "metadata": {},
   "outputs": [],
   "source": [
    "import json\n",
    "json = create_dataset(name=\"new dataset\", description=\"...\", access=\"PRIVATE\", \n",
    "               space=['5ebb1c114f0c0ce46113839d'],\n",
    "              collection=['5ebb1c2d4f0c0ce4611383bb'])\n",
    "newDatasetId = json.get('id')\n",
    "print(f'View at {clowder}/datasets/{newDatasetId}')"
   ]
  },
  {
   "cell_type": "markdown",
   "metadata": {},
   "source": [
    "## Upload file to new dataset"
   ]
  },
  {
   "cell_type": "code",
   "execution_count": null,
   "metadata": {},
   "outputs": [],
   "source": [
    "url = \"{}/api/uploadToDataset/{}\".format(clowder, newDatasetId)\n",
    "files = {'file': open(fileName, 'rb')}\n",
    "r = requests.post(url, files=files, headers={'X-API-Key': key})\n",
    "r.raise_for_status()\n",
    "print(r.json())\n",
    "fileId = r.json().get('id')\n",
    "print(f'View at {clowder}/files/{fileId}')"
   ]
  },
  {
   "cell_type": "markdown",
   "metadata": {},
   "source": [
    "## Add metadata to new file"
   ]
  },
  {
   "cell_type": "code",
   "execution_count": null,
   "metadata": {},
   "outputs": [],
   "source": [
    "import json\n",
    "url = \"{}/api/files/{}/metadata.jsonld\".format(clowder, fileId)\n",
    "payload = {\n",
    "    \"@context\":[\n",
    "        \"https://clowder.ncsa.illinois.edu/contexts/metadata.jsonld\"\n",
    "    ],\n",
    "    \"agent\":{\n",
    "        \"@type\":\"cat:extractor\",\n",
    "        \"name\":\"ECGS Notebook\",\n",
    "        \"extractor_id\":\"https://clowder.ncsa.illinois.edu/api/extractors/ecgs\"\n",
    "    },\n",
    "    \"content\":{\n",
    "        \"foo\": \"bar\"\n",
    "    }\n",
    "}\n",
    "r = requests.post(url, headers = headers, data=json.dumps(payload))\n",
    "r.json()"
   ]
  },
  {
   "cell_type": "code",
   "execution_count": null,
   "metadata": {},
   "outputs": [],
   "source": [
    "# The context file describes the basic elements of a Clowder metadata document\n",
    "r = requests.get('https://clowder.ncsa.illinois.edu/contexts/metadata.jsonld')\n",
    "r.json()"
   ]
  },
  {
   "cell_type": "code",
   "execution_count": null,
   "metadata": {},
   "outputs": [],
   "source": []
  }
 ],
 "metadata": {
  "kernelspec": {
   "display_name": "Python 3",
   "language": "python",
   "name": "python3"
  },
  "language_info": {
   "codemirror_mode": {
    "name": "ipython",
    "version": 3
   },
   "file_extension": ".py",
   "mimetype": "text/x-python",
   "name": "python",
   "nbconvert_exporter": "python",
   "pygments_lexer": "ipython3",
   "version": "3.7.7"
  }
 },
 "nbformat": 4,
 "nbformat_minor": 4
}
