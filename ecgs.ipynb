{
 "cells": [
  {
   "cell_type": "markdown",
   "metadata": {},
   "source": [
    "# Semantic Annotation of Data using JSON Linked Data\n",
    " \n",
    "The Earthcube Geosemantics Framework (http://ecgs.ncsa.illinois.edu/) developed a prototype of a decentralized framework that combines the Linked Data and RESTful web services to annotate, connect, integrate, and reason about integration of geoscience resources. The framework allows the semantic enrichment of web resources and semantic mediation among heterogeneous geoscience resources, such as models and data. \n",
    "\n",
    "This notebook provide examples on how the Semantic Annotation Service can be used to manage linked controlled vocabularies using JSON Linked Data (JSON-LD), including how to query the built-in RDF graphs for existing linked standard vocabularies based on the Community Surface Dynamics Modeling System (CSDMS), Observations Data Model (ODM2) and Unidata udunits2 vocabularies, how to query build-in crosswalks between CSDMS and ODM2 vocabularies using SKOS, and how to add new linked vocabularies to the service. JSON-LD based definitions provided by these endpoints will be used to annotate sample data available within the IML Critical Zone Observatory data repository using the Clowder Web Service API (https://data.imlczo.org/). By supporting JSON-LD, the Semantic Annotation Service and the Clowder framework provide examples on how portable and semantically defined metadata can be used to better annotate data across repositories and services."
   ]
  },
  {
   "cell_type": "markdown",
   "metadata": {},
   "source": [
    "## Linked Data\n",
    "\n",
    "The Linked Data paradigm emerged in the context of Semantic Web technologies for publishing and sharing data over the Web. It connects related individual Web resources in a Graph database, where resources represent the graph nodes, and an edge connects a pair of nodes. Publishing and linking scientific resources using Semantic Web technologies require that the user community follows the three principles of the linked Data. First, each resource needs to be represented using a unique Uniform Resource Identifier (URI), which consists of: (i) A Uniform Resource Locator (URL) to define the server path over the Web, and (ii) A Uniform Resource Name (URN) to describe the exact name of the resource. Second, the relationships between resources are described using the triple format, where a subject S has a predicate P with an object O. A predicate is either an undirected relationship (bi-directional), where it connects two entities in both ways or a directed relationship (uni-directional), where the presence of a relationship between two entities in one direction does not imply the presence of a reverse relationship. The triple format is the structure unit for the Linked Data system. Finally, the HyperText Transfer Protocol (HTTP) is used as a universal access mechanism for resources on the Web. More detials are avilable here (http://linkeddata.org/)"
   ]
  },
  {
   "cell_type": "markdown",
   "metadata": {},
   "source": [
    "## Basic Requirements"
   ]
  },
  {
   "cell_type": "code",
   "execution_count": 45,
   "metadata": {},
   "outputs": [],
   "source": [
    "import requests\n",
    "import json\n",
    "\n",
    "host = 'http://hcgs.ncsa.illinois.edu'"
   ]
  },
  {
   "cell_type": "code",
   "execution_count": null,
   "metadata": {},
   "outputs": [],
   "source": [
    "r = requests.get(host + \"/gsis/CSNqueryName?graph=csdms&name=air__dynamic_shear_viscosity\")\n",
    "r.json()"
   ]
  },
  {
   "cell_type": "markdown",
   "metadata": {},
   "source": [
    "### Time Instant Annotation\n",
    "Returns a temporal annoation for a time instant in a JSON-LD format."
   ]
  },
  {
   "cell_type": "markdown",
   "metadata": {},
   "source": [
    "## Semantic Annotation Service"
   ]
  },
  {
   "cell_type": "code",
   "execution_count": null,
   "metadata": {},
   "outputs": [],
   "source": [
    "r = requests.get(host + \"/gsis/sas/temporal?time=2014-01-01T08:01:01-09:00\")\n",
    "r.json()"
   ]
  },
  {
   "cell_type": "markdown",
   "metadata": {},
   "source": [
    "### Lists the names of all graphs in the Knowledge base\n",
    "\n",
    "Returns a list of all the graphs stored in the knowledge base."
   ]
  },
  {
   "cell_type": "code",
   "execution_count": 20,
   "metadata": {},
   "outputs": [
    {
     "data": {
      "text/plain": [
       "{'graph_names': ['csdms',\n",
       "  'odm2-vars',\n",
       "  'udunits2-base',\n",
       "  'udunits2-derived',\n",
       "  'udunits2-accepted',\n",
       "  'udunits2-prefix',\n",
       "  'google-unit',\n",
       "  'model-2',\n",
       "  'model-3',\n",
       "  'data-1',\n",
       "  'data-2',\n",
       "  'data-3',\n",
       "  'variable_name_crosswalk',\n",
       "  'variable_name_crosswalk-owl',\n",
       "  'variable_name_crosswalk-skos',\n",
       "  'model_test',\n",
       "  'model_test11',\n",
       "  'config_vars.ttl',\n",
       "  'model-x',\n",
       "  'Info',\n",
       "  'Inf',\n",
       "  'demo-model',\n",
       "  'csv-mappings',\n",
       "  'models_graph9d7d400f53864989a05d3ae539f30a78',\n",
       "  'models_graph37baec3114d74ca6abd72cce75f966db',\n",
       "  'models_graphe604316f14334985aaf4ebd6fe220e77',\n",
       "  'models_graph26e29f5026664f11b244072bf6956f74']}"
      ]
     },
     "execution_count": 20,
     "metadata": {},
     "output_type": "execute_result"
    }
   ],
   "source": [
    "r = requests.get(host + \"/gsis/listGraphNames\")\n",
    "r.json()"
   ]
  },
  {
   "cell_type": "code",
   "execution_count": 21,
   "metadata": {},
   "outputs": [
    {
     "data": {
      "text/plain": [
       "{'@graph': [{'@id': 'http://mmisw.org/ont/mmitest/udunits2-prefix/Prefix',\n",
       "   '@type': 'owl:Class',\n",
       "   'rdfs:label': 'Prefix',\n",
       "   'subClassOf': 'skos:Concept'},\n",
       "  {'@id': 'http://mmisw.org/ont/mmitest/udunits2-prefix/atto',\n",
       "   '@type': 'http://mmisw.org/ont/mmitest/udunits2-prefix/Prefix',\n",
       "   'http://mmisw.org/ont/mmitest/udunits2-prefix/name': 'atto',\n",
       "   'http://mmisw.org/ont/mmitest/udunits2-prefix/symbol': 'a',\n",
       "   'http://mmisw.org/ont/mmitest/udunits2-prefix/value': '1e-18'},\n",
       "  {'@id': 'http://mmisw.org/ont/mmitest/udunits2-prefix/centi',\n",
       "   '@type': 'http://mmisw.org/ont/mmitest/udunits2-prefix/Prefix',\n",
       "   'http://mmisw.org/ont/mmitest/udunits2-prefix/name': 'centi',\n",
       "   'http://mmisw.org/ont/mmitest/udunits2-prefix/symbol': 'c',\n",
       "   'http://mmisw.org/ont/mmitest/udunits2-prefix/value': '.01'},\n",
       "  {'@id': 'http://mmisw.org/ont/mmitest/udunits2-prefix/deci',\n",
       "   '@type': 'http://mmisw.org/ont/mmitest/udunits2-prefix/Prefix',\n",
       "   'http://mmisw.org/ont/mmitest/udunits2-prefix/name': 'deci',\n",
       "   'http://mmisw.org/ont/mmitest/udunits2-prefix/symbol': 'd',\n",
       "   'http://mmisw.org/ont/mmitest/udunits2-prefix/value': '.1'},\n",
       "  {'@id': 'http://mmisw.org/ont/mmitest/udunits2-prefix/deka',\n",
       "   '@type': 'http://mmisw.org/ont/mmitest/udunits2-prefix/Prefix',\n",
       "   'http://mmisw.org/ont/mmitest/udunits2-prefix/name': 'deka',\n",
       "   'http://mmisw.org/ont/mmitest/udunits2-prefix/symbol': 'da',\n",
       "   'http://mmisw.org/ont/mmitest/udunits2-prefix/value': '10'},\n",
       "  {'@id': 'http://mmisw.org/ont/mmitest/udunits2-prefix/exa',\n",
       "   '@type': 'http://mmisw.org/ont/mmitest/udunits2-prefix/Prefix',\n",
       "   'http://mmisw.org/ont/mmitest/udunits2-prefix/name': 'exa',\n",
       "   'http://mmisw.org/ont/mmitest/udunits2-prefix/symbol': 'E',\n",
       "   'http://mmisw.org/ont/mmitest/udunits2-prefix/value': '1e18'},\n",
       "  {'@id': 'http://mmisw.org/ont/mmitest/udunits2-prefix/femto',\n",
       "   '@type': 'http://mmisw.org/ont/mmitest/udunits2-prefix/Prefix',\n",
       "   'http://mmisw.org/ont/mmitest/udunits2-prefix/name': 'femto',\n",
       "   'http://mmisw.org/ont/mmitest/udunits2-prefix/symbol': 'f',\n",
       "   'http://mmisw.org/ont/mmitest/udunits2-prefix/value': '1e-15'},\n",
       "  {'@id': 'http://mmisw.org/ont/mmitest/udunits2-prefix/giga',\n",
       "   '@type': 'http://mmisw.org/ont/mmitest/udunits2-prefix/Prefix',\n",
       "   'http://mmisw.org/ont/mmitest/udunits2-prefix/name': 'giga',\n",
       "   'http://mmisw.org/ont/mmitest/udunits2-prefix/symbol': 'G',\n",
       "   'http://mmisw.org/ont/mmitest/udunits2-prefix/value': '1e9'},\n",
       "  {'@id': 'http://mmisw.org/ont/mmitest/udunits2-prefix/hecto',\n",
       "   '@type': 'http://mmisw.org/ont/mmitest/udunits2-prefix/Prefix',\n",
       "   'http://mmisw.org/ont/mmitest/udunits2-prefix/name': 'hecto',\n",
       "   'http://mmisw.org/ont/mmitest/udunits2-prefix/symbol': 'h',\n",
       "   'http://mmisw.org/ont/mmitest/udunits2-prefix/value': '100'},\n",
       "  {'@id': 'http://mmisw.org/ont/mmitest/udunits2-prefix/kilo',\n",
       "   '@type': 'http://mmisw.org/ont/mmitest/udunits2-prefix/Prefix',\n",
       "   'http://mmisw.org/ont/mmitest/udunits2-prefix/name': 'kilo',\n",
       "   'http://mmisw.org/ont/mmitest/udunits2-prefix/symbol': 'k',\n",
       "   'http://mmisw.org/ont/mmitest/udunits2-prefix/value': '1e3'},\n",
       "  {'@id': 'http://mmisw.org/ont/mmitest/udunits2-prefix/mega',\n",
       "   '@type': 'http://mmisw.org/ont/mmitest/udunits2-prefix/Prefix',\n",
       "   'http://mmisw.org/ont/mmitest/udunits2-prefix/name': 'mega',\n",
       "   'http://mmisw.org/ont/mmitest/udunits2-prefix/symbol': 'M',\n",
       "   'http://mmisw.org/ont/mmitest/udunits2-prefix/value': '1e6'},\n",
       "  {'@id': 'http://mmisw.org/ont/mmitest/udunits2-prefix/micro',\n",
       "   '@type': 'http://mmisw.org/ont/mmitest/udunits2-prefix/Prefix',\n",
       "   'http://mmisw.org/ont/mmitest/udunits2-prefix/name': 'micro',\n",
       "   'http://mmisw.org/ont/mmitest/udunits2-prefix/symbol': ['u', 'μ', 'µ'],\n",
       "   'http://mmisw.org/ont/mmitest/udunits2-prefix/value': '1e-6'},\n",
       "  {'@id': 'http://mmisw.org/ont/mmitest/udunits2-prefix/milli',\n",
       "   '@type': 'http://mmisw.org/ont/mmitest/udunits2-prefix/Prefix',\n",
       "   'http://mmisw.org/ont/mmitest/udunits2-prefix/name': 'milli',\n",
       "   'http://mmisw.org/ont/mmitest/udunits2-prefix/symbol': 'm',\n",
       "   'http://mmisw.org/ont/mmitest/udunits2-prefix/value': '1e-3'},\n",
       "  {'@id': 'http://mmisw.org/ont/mmitest/udunits2-prefix/name',\n",
       "   '@type': 'owl:DatatypeProperty',\n",
       "   'domain': 'http://mmisw.org/ont/mmitest/udunits2-prefix/Prefix',\n",
       "   'range': 'http://www.w3.org/2001/XMLSchema#string'},\n",
       "  {'@id': 'http://mmisw.org/ont/mmitest/udunits2-prefix/nano',\n",
       "   '@type': 'http://mmisw.org/ont/mmitest/udunits2-prefix/Prefix',\n",
       "   'http://mmisw.org/ont/mmitest/udunits2-prefix/name': 'nano',\n",
       "   'http://mmisw.org/ont/mmitest/udunits2-prefix/symbol': 'n',\n",
       "   'http://mmisw.org/ont/mmitest/udunits2-prefix/value': '1e-9'},\n",
       "  {'@id': 'http://mmisw.org/ont/mmitest/udunits2-prefix/peta',\n",
       "   '@type': 'http://mmisw.org/ont/mmitest/udunits2-prefix/Prefix',\n",
       "   'http://mmisw.org/ont/mmitest/udunits2-prefix/name': 'peta',\n",
       "   'http://mmisw.org/ont/mmitest/udunits2-prefix/symbol': 'P',\n",
       "   'http://mmisw.org/ont/mmitest/udunits2-prefix/value': '1e15'},\n",
       "  {'@id': 'http://mmisw.org/ont/mmitest/udunits2-prefix/pico',\n",
       "   '@type': 'http://mmisw.org/ont/mmitest/udunits2-prefix/Prefix',\n",
       "   'http://mmisw.org/ont/mmitest/udunits2-prefix/name': 'pico',\n",
       "   'http://mmisw.org/ont/mmitest/udunits2-prefix/symbol': 'p',\n",
       "   'http://mmisw.org/ont/mmitest/udunits2-prefix/value': '1e-12'},\n",
       "  {'@id': 'http://mmisw.org/ont/mmitest/udunits2-prefix/symbol',\n",
       "   '@type': 'owl:DatatypeProperty',\n",
       "   'domain': 'http://mmisw.org/ont/mmitest/udunits2-prefix/Prefix',\n",
       "   'range': 'http://www.w3.org/2001/XMLSchema#string'},\n",
       "  {'@id': 'http://mmisw.org/ont/mmitest/udunits2-prefix/tera',\n",
       "   '@type': 'http://mmisw.org/ont/mmitest/udunits2-prefix/Prefix',\n",
       "   'http://mmisw.org/ont/mmitest/udunits2-prefix/name': 'tera',\n",
       "   'http://mmisw.org/ont/mmitest/udunits2-prefix/symbol': 'T',\n",
       "   'http://mmisw.org/ont/mmitest/udunits2-prefix/value': '1e12'},\n",
       "  {'@id': 'http://mmisw.org/ont/mmitest/udunits2-prefix/value',\n",
       "   '@type': 'owl:DatatypeProperty',\n",
       "   'domain': 'http://mmisw.org/ont/mmitest/udunits2-prefix/Prefix',\n",
       "   'range': 'http://www.w3.org/2001/XMLSchema#string'},\n",
       "  {'@id': 'http://mmisw.org/ont/mmitest/udunits2-prefix/yocto',\n",
       "   '@type': 'http://mmisw.org/ont/mmitest/udunits2-prefix/Prefix',\n",
       "   'http://mmisw.org/ont/mmitest/udunits2-prefix/name': 'yocto',\n",
       "   'http://mmisw.org/ont/mmitest/udunits2-prefix/symbol': 'y',\n",
       "   'http://mmisw.org/ont/mmitest/udunits2-prefix/value': '1e-24'},\n",
       "  {'@id': 'http://mmisw.org/ont/mmitest/udunits2-prefix/yotta',\n",
       "   '@type': 'http://mmisw.org/ont/mmitest/udunits2-prefix/Prefix',\n",
       "   'http://mmisw.org/ont/mmitest/udunits2-prefix/name': 'yotta',\n",
       "   'http://mmisw.org/ont/mmitest/udunits2-prefix/symbol': 'Y',\n",
       "   'http://mmisw.org/ont/mmitest/udunits2-prefix/value': '1e24'},\n",
       "  {'@id': 'http://mmisw.org/ont/mmitest/udunits2-prefix/zepto',\n",
       "   '@type': 'http://mmisw.org/ont/mmitest/udunits2-prefix/Prefix',\n",
       "   'http://mmisw.org/ont/mmitest/udunits2-prefix/name': 'zepto',\n",
       "   'http://mmisw.org/ont/mmitest/udunits2-prefix/symbol': 'z',\n",
       "   'http://mmisw.org/ont/mmitest/udunits2-prefix/value': '1e-21'},\n",
       "  {'@id': 'http://mmisw.org/ont/mmitest/udunits2-prefix/zetta',\n",
       "   '@type': 'http://mmisw.org/ont/mmitest/udunits2-prefix/Prefix',\n",
       "   'http://mmisw.org/ont/mmitest/udunits2-prefix/name': 'zetta',\n",
       "   'http://mmisw.org/ont/mmitest/udunits2-prefix/symbol': 'Z',\n",
       "   'http://mmisw.org/ont/mmitest/udunits2-prefix/value': '1e21'},\n",
       "  {'@id': 'skos:Concept', '@type': 'rdfs:Class'}],\n",
       " '@context': {'label': {'@id': 'http://www.w3.org/2000/01/rdf-schema#label',\n",
       "   '@type': 'http://www.w3.org/2001/XMLSchema#string'},\n",
       "  'subClassOf': {'@id': 'http://www.w3.org/2000/01/rdf-schema#subClassOf',\n",
       "   '@type': '@id'},\n",
       "  'range': {'@id': 'http://www.w3.org/2000/01/rdf-schema#range',\n",
       "   '@type': '@id'},\n",
       "  'domain': {'@id': 'http://www.w3.org/2000/01/rdf-schema#domain',\n",
       "   '@type': '@id'},\n",
       "  'value': {'@id': 'http://mmisw.org/ont/mmitest/udunits2-prefix/value',\n",
       "   '@type': 'http://www.w3.org/2001/XMLSchema#string'},\n",
       "  'name': {'@id': 'http://mmisw.org/ont/mmitest/udunits2-prefix/name',\n",
       "   '@type': 'http://www.w3.org/2001/XMLSchema#string'},\n",
       "  'symbol': {'@id': 'http://mmisw.org/ont/mmitest/udunits2-prefix/symbol',\n",
       "   '@type': 'http://www.w3.org/2001/XMLSchema#string'},\n",
       "  'rdf': 'http://www.w3.org/1999/02/22-rdf-syntax-ns#',\n",
       "  'owl': 'http://www.w3.org/2002/07/owl#',\n",
       "  'skos': 'http://www.w3.org/2004/02/skos/core#',\n",
       "  'rdfs': 'http://www.w3.org/2000/01/rdf-schema#'}}"
      ]
     },
     "execution_count": 21,
     "metadata": {},
     "output_type": "execute_result"
    }
   ],
   "source": [
    "r = requests.get(host + \"/gsis/read?graph=udunits2-prefix\")\n",
    "r.json()"
   ]
  },
  {
   "cell_type": "code",
   "execution_count": 22,
   "metadata": {},
   "outputs": [
    {
     "data": {
      "text/plain": [
       "['csn:earth_surface_wind__range_of_speed',\n",
       " 'csn:land_surface_wind__reference_height_speed',\n",
       " 'csn:land_surface_wind__speed_reference_height',\n",
       " 'csn:projectile_origin_wind__speed',\n",
       " 'odm2:windGustSpeed',\n",
       " 'odm2:windSpeed']"
      ]
     },
     "execution_count": 22,
     "metadata": {},
     "output_type": "execute_result"
    }
   ],
   "source": [
    "r = requests.get(host + \"/gsis/sas/vars/list?term=wind+speed\")\n",
    "r.json()"
   ]
  },
  {
   "cell_type": "code",
   "execution_count": 23,
   "metadata": {},
   "outputs": [
    {
     "data": {
      "text/plain": [
       "{'name': 'air__dynamic_shear_viscosity',\n",
       " 'type': 'http://ecgs.ncsa.illinois.edu/2015/csn/name',\n",
       " 'object_fullname': 'air',\n",
       " 'quantity_fullname': 'dynamic_shear_viscosity',\n",
       " 'base_object': 'air',\n",
       " 'base_quantity': 'viscosity',\n",
       " 'object_part': ['air'],\n",
       " 'quantity_part': ['dynamic', 'shear', 'viscosity']}"
      ]
     },
     "execution_count": 23,
     "metadata": {},
     "output_type": "execute_result"
    }
   ],
   "source": [
    "r = requests.get(host + \"/gsis/CSNqueryName?graph=csdms&name=air__dynamic_shear_viscosity\")\n",
    "r.json()"
   ]
  },
  {
   "cell_type": "code",
   "execution_count": 24,
   "metadata": {},
   "outputs": [
    {
     "data": {
      "text/plain": [
       "{}"
      ]
     },
     "execution_count": 24,
     "metadata": {},
     "output_type": "execute_result"
    }
   ],
   "source": [
    "r = requests.get(host + \"/gsis/CSNqueryName?graph=odm2-vars&name=windSpeed\")\n",
    "r.json()"
   ]
  },
  {
   "cell_type": "markdown",
   "metadata": {},
   "source": [
    "## Clowder"
   ]
  },
  {
   "cell_type": "code",
   "execution_count": 42,
   "metadata": {},
   "outputs": [],
   "source": [
    "clowder = 'https://data.imlczo.org/clowder'\n",
    "key = ''\n",
    "headers = {'Content-type': 'application/json'}"
   ]
  },
  {
   "cell_type": "markdown",
   "metadata": {},
   "source": [
    "### create dataset"
   ]
  },
  {
   "cell_type": "code",
   "execution_count": 43,
   "metadata": {},
   "outputs": [],
   "source": [
    "def create_dataset(name, description, access, space, collection):\n",
    "    '''\n",
    "     params: name, description, access: PUBLIC vs PRIVATE, \n",
    "         space: a list of string can be empty,\n",
    "         collection: a list of string, can be empty\n",
    "    '''\n",
    "    url = \"{}/api/datasets/createempty?key={}\".format(clowder, key)\n",
    "    payload = json.dumps({'name':name, \n",
    "                          'description':description,\n",
    "                          'access':access,\n",
    "                          'space':space,\n",
    "                          'collection':collection}) \n",
    "\n",
    "    r = requests.post(url,\n",
    "                     data=payload,\n",
    "                     headers=headers)\n",
    "    print(r.status_code)\n",
    "    print(r.text)\n",
    "    r.json()"
   ]
  },
  {
   "cell_type": "code",
   "execution_count": 46,
   "metadata": {},
   "outputs": [
    {
     "name": "stdout",
     "output_type": "stream",
     "text": [
      "200\n",
      "{\"id\":\"5ebc21604f0c0ce4611411c7\"}\n"
     ]
    }
   ],
   "source": [
    "json = create_dataset(name=\"new dataset\", description=\"...\", access=\"PRIVATE\", \n",
    "               space=['5ebb1c114f0c0ce46113839d'],\n",
    "              collection=['5ebb1c2d4f0c0ce4611383bb'])\n",
    "# print(json.get(\"id\"))"
   ]
  },
  {
   "cell_type": "code",
   "execution_count": null,
   "metadata": {},
   "outputs": [],
   "source": [
    "url = \"{}/api/uploadToDataset/{}?key={}\".format(clowder, datasetid, key)\n",
    "for i in range(1, 9000):\n",
    "    print('Uploading file ' + str(i))\n",
    "    result = requests.post(url, files={\"File\": open('emptyfile', 'rb')})"
   ]
  }
 ],
 "metadata": {
  "kernelspec": {
   "display_name": "Python 3",
   "language": "python",
   "name": "python3"
  },
  "language_info": {
   "codemirror_mode": {
    "name": "ipython",
    "version": 3
   },
   "file_extension": ".py",
   "mimetype": "text/x-python",
   "name": "python",
   "nbconvert_exporter": "python",
   "pygments_lexer": "ipython3",
   "version": "3.8.2"
  }
 },
 "nbformat": 4,
 "nbformat_minor": 4
}
