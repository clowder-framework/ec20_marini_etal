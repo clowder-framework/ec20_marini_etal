{
 "cells": [
  {
   "cell_type": "markdown",
   "metadata": {},
   "source": [
    "### Register an account on IMLCZO\n",
    "You will need to create an account on IMLCZO to retrieve an API key. Please go to https://data.imlczo.org/clowder/signup and enter your email. You will receive an email from us. To activate your account, please reply back to the email saying you are using the ecgs jupyter notebook.\n",
    "Once your account is activated, you can generate an API key."
   ]
  },
  {
   "cell_type": "markdown",
   "metadata": {},
   "source": [
    "### Generate and use an API Key\n",
    "1. Login to https://data.imlczo.org/clowder/login and navigate to your profile (click on the icon in the top right and select your \"View Profile\").\n",
    "![profile](img/profile.png)\n",
    "2. Add a name to your key and hit the \"Add\" button. In the example below, we created a test_key.\n",
    "![profile](img/added_key.png)\n",
    "3. Create a .env file in the same directory as this notebook and, using your favorite text editor, add the following line:\n",
    "\n",
    "```CLOWDER-KEY=replace_your_key_here```\n",
    "4. Copy your key from step 2.\n",
    "5. Replace the key in the `.env` file.\n",
    "6. Run the following block.\n"
   ]
  },
  {
   "cell_type": "code",
   "execution_count": null,
   "metadata": {},
   "outputs": [],
   "source": []
  }
 ],
 "metadata": {
  "kernelspec": {
   "display_name": "Python 3",
   "language": "python",
   "name": "python3"
  },
  "language_info": {
   "codemirror_mode": {
    "name": "ipython",
    "version": 3
   },
   "file_extension": ".py",
   "mimetype": "text/x-python",
   "name": "python",
   "nbconvert_exporter": "python",
   "pygments_lexer": "ipython3",
   "version": "3.8.2"
  }
 },
 "nbformat": 4,
 "nbformat_minor": 4
}
